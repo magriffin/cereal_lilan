{
 "cells": [
  {
   "cell_type": "markdown",
   "metadata": {},
   "source": [
    "# **The Healthy Breakfast Challenge**\n",
    " As a nutritionist, you have been hired by local schools to improve the breakfast habits of students. Recent studies have shown that having a nutritious breakfast greatly improves students' energy levels, concentration, and overall performance in school. However, the market is flooded with a variety of cereal brands, each claiming to be the best choice. With the goal of maximizing nutritional value, you need to make informed decisions on which cereal brand to recommend to the local schools.\n",
    "\n",
    " **Overview of your Mission**\n",
    " - **Milestone 1: Data Cleaning** <br> First up, you will dive into the cereal dataset. Just like detectives, you'll need to understand and clean this data. This means identifying and fixing any mistakes. This ensures you will be working with reliable data. <br>\n",
    " - **Milestone 2: Data Visualization** <br> With our data cleaned, it's time to create graphs to show the relationship between different nutritional elements in cereals.\n",
    " - **Milestone 3:Data Interpretation** <br> Finally, you need to interpret your findings. This is where you will make sense of your graphs, and will have found the best three cereals to recommend to local schools."
   ]
  },
  {
   "cell_type": "markdown",
   "metadata": {},
   "source": [
    "### **Milestone 1: Data Cleaning**\n",
    "\n",
    "As a nutritionist, your first task is crucial. Before you can make any recommendations, you need to make sure you have a solid foundation — that means starting with clean data. Looking at the cereal dataset below, follow the following instructions:\n",
    "\n",
    "1. **Spot the clues:** First, scan through the cereal dataset for any bizzare entries. Are there any cereals with missing information? Are there numbers that just don't make sense?\n",
    "2. **The Clean-up:** Once you identify the bizzare entries, you can start the clean-up process. This can include filling in missing data, correcting inaccuracies, or even removing entries that just don't fit. You may need to research the cereal brand to input the correct data.\n",
    "3. **Final Inspection:** Take one last look at the cereal dataset so you don't miss anything."
   ]
  },
  {
   "cell_type": "markdown",
   "metadata": {},
   "source": [
    "![Data cleaning table should be displayed here](images/table1_cleaning.png)"
   ]
  },
  {
   "cell_type": "markdown",
   "metadata": {},
   "source": [
    "### **Milestone 2: Data Visualization**\n",
    "As you've seen, our dataset includes nutritional information for various cereals.\n",
    "\n",
    "##### <u>**Task 1:**</u> Given the data table below, choose a type of graph that you think will best represent the relationship between **sugars** and **ratings**.\n",
    "\n",
    "![Display cereal first 15 rows of cereal data](images/table_tograph.png) <br>\n",
    "\n",
    "##### What type of graph did you choose?  ____________________________________________________"
   ]
  },
  {
   "cell_type": "markdown",
   "metadata": {},
   "source": [
    "##### <u>**Task 2:**</u> Examine the three graphs below. Choose the graph that you think best represents the relationship between the sugar content and vitamin content in cereals. \n",
    "\n",
    "A) Scatter Plot <br>\n",
    "![Graph 1: Scatter Plot Graph should be displayed here](images/scatter.png)<br>\n",
    "B) Bar Graph<br>\n",
    "![Graph 2: Bar Graph should be displayed here](images/bar.png)<br>\n",
    "C) Line Graph <br>\n",
    "![Graph 3: Line Graph should be displayed here](images/line.png)<br>\n",
    "\n",
    "\n",
    "##### Which graph best represented the relationship between sugar and vitamin? _________________\n",
    "\n"
   ]
  },
  {
   "cell_type": "markdown",
   "metadata": {},
   "source": [
    "##### <u>**Task 3:**</u> Now, it's time to learn how to code your own graph. Your task is to create a graph that best represents the relationship between **sugars** and **rating**. To code your own graph, follow the steps below\n",
    "\n",
    "1. Run the set-up code below."
   ]
  },
  {
   "cell_type": "code",
   "execution_count": 9,
   "metadata": {},
   "outputs": [],
   "source": [
    "# Set-up Code\n",
    "import plotly.express as px\n",
    "import pandas as pd\n",
    "\n",
    "# Load data\n",
    "cereal_df = pd.read_csv(\"csv_files/cereal.csv\")"
   ]
  },
  {
   "cell_type": "markdown",
   "metadata": {},
   "source": [
    "2. Choose the the type of graph you want to visualize. Here are your options:\n",
    "    - For a <u>bar graph</u>: Write `px.bar`\n",
    "    - For a <u>line graph</u>: Write `px.line`\n",
    "    - For a <u>scatter plot</u>: Write `px.scatter`\n",
    "\n",
    "Example of code:`chosen_graph1 = px.line`"
   ]
  },
  {
   "cell_type": "code",
   "execution_count": 16,
   "metadata": {},
   "outputs": [],
   "source": [
    "# ** STUDENT SECTION BEGINS **\n",
    "\n",
    "chosen_graph1 = px.line   # Change as needed.\n",
    "\n",
    "# ** STUDENT SECTION ENDS **"
   ]
  },
  {
   "cell_type": "markdown",
   "metadata": {},
   "source": [
    "3. Run the code below to see your graph. "
   ]
  },
  {
   "cell_type": "code",
   "execution_count": null,
   "metadata": {},
   "outputs": [],
   "source": [
    "# Run this code to see you graph\n",
    "fig = chosen_graph1(\n",
    "    cereal_df,\n",
    "    x=\"sugars\",\n",
    "    y=\"rating\",\n",
    "    hover_name=\"name\",\n",
    "    title=\"Relationship between Sugars and Rating\",\n",
    ")\n",
    "\n",
    "# Show the plot\n",
    "fig.show()\n",
    "\n",
    "# If figure does not show: uncomment the next line.\n",
    "# fig.write_html(\"graph1.html\") # downloads graph as an html file"
   ]
  },
  {
   "cell_type": "markdown",
   "metadata": {},
   "source": [
    "4. Hover over the graph, and note your observations. \n",
    "\n",
    "<br>\n",
    "\n",
    "5. Go back to step 2 and try a different graph. Keep repeating step 4 until you code the three types of graphs.\n",
    "\n",
    "<br>\n",
    "\n",
    "\n",
    "6. Using the graph you created, answer the following questions: <br> <br>\n",
    "    A.  Which graph best represents the relationship between **sugars** and **rating**? ______________________________________ <br> <br>\n",
    "    B. Which cereal had the highest **rating**? _______________________________________________ <br> <br>\n",
    "    C. Which cereal had the least amount of **sugar** _________________________________________<br> <br>\n"
   ]
  },
  {
   "cell_type": "markdown",
   "metadata": {},
   "source": [
    "##### <u>**Task 4:**</u> Now that you know how to create different types of graph, it's time to expand our knowledge. We are now going to learn how to graph relationships between different attributes. Examples of attributes are protein, fat, sugars, etc. Look at the cereal dataset, to determine which attributes to use. This section will help you determine which cereals to recommend to the school board. To code your graph follow the steps below.\n",
    "\n",
    "1. Run the set-up code below.\n"
   ]
  },
  {
   "cell_type": "code",
   "execution_count": 6,
   "metadata": {},
   "outputs": [],
   "source": [
    "# Set-up Code\n",
    "import plotly.express as px\n",
    "import pandas as pd\n",
    "\n",
    "# Load data\n",
    "cereal_df = pd.read_csv(\"csv_files/cereal.csv\")"
   ]
  },
  {
   "cell_type": "markdown",
   "metadata": {},
   "source": [
    "2. Choose the the type of graph you want to visualize. Here are your options:\n",
    "    - For a <u>bar graph</u>: Write `px.bar`\n",
    "    - For a <u>line graph</u>: Write `px.line`\n",
    "    - For a <u>scatter plot</u>: Write `px.scatter`\n",
    "\n",
    "Example of code: `chosen_graph2 = px.line`"
   ]
  },
  {
   "cell_type": "code",
   "execution_count": 7,
   "metadata": {},
   "outputs": [],
   "source": [
    "# ** STUDENT SECTION BEGINS **\n",
    "\n",
    "chosen_graph2 = px.scatter  # Change as needed.\n",
    "\n",
    "# ** STUDENT SECTION ENDS **"
   ]
  },
  {
   "cell_type": "markdown",
   "metadata": {},
   "source": [
    "3. Choose two attributes to use in your graph. Remember to look at the cereal dataset to choose your attributes!\n",
    "    - Which attribute is on the x-axis?\n",
    "    - Which attribute is on the y-axis?\n",
    "\n",
    "Example of code: The following will create a graph that shows the relationship between **sugars** and **vitamins** <br>\n",
    " `x_attribute = \"sugars\"` <br>\n",
    "`y_attribute = \"vitamins\"`\n",
    "\n",
    "**<span style=\"color: red\">Note: Be careful of spelling!</span>**"
   ]
  },
  {
   "cell_type": "code",
   "execution_count": 8,
   "metadata": {},
   "outputs": [],
   "source": [
    "# ** STUDENT SECTION BEGINS **\n",
    "\n",
    "x_attribute = \"sugars\"      # Change as needed\n",
    "y_attribute = \"vitamins\"    # Change as needed\n",
    "\n",
    "# ** STUDENT SECTION ENDS **"
   ]
  },
  {
   "cell_type": "markdown",
   "metadata": {},
   "source": [
    "4. Run the code below to see your graph. "
   ]
  },
  {
   "cell_type": "code",
   "execution_count": null,
   "metadata": {},
   "outputs": [],
   "source": [
    "# Run this code to see your graph\n",
    "fig = chosen_graph2(\n",
    "    cereal_df,\n",
    "    x=x_attribute.lower(),\n",
    "    y=y_attribute.lower(),\n",
    "    hover_name=\"name\",  # Show cereal name on hover\n",
    "    title=f\"Relationship between {x_attribute.capitalize()} and {y_attribute.capitalize()}\",\n",
    ")\n",
    "\n",
    "# Show the plot \n",
    "fig.show()\n",
    "\n",
    "# If figure does not show: uncomment the next line.\n",
    "# fig.write_html(\"graph1.html\") # downloads graph as an html file"
   ]
  },
  {
   "cell_type": "markdown",
   "metadata": {},
   "source": [
    "4. Use your mouse to hover over the graph. Using this feature, answer the questions in the next section."
   ]
  },
  {
   "cell_type": "markdown",
   "metadata": {},
   "source": [
    "5. Based off of your graph, which three cereals should you recommend to local schools?\n",
    "<br><br>\n",
    "    1. ____________________________________________________________________ <br> <br>\n",
    "    2. ____________________________________________________________________ <br> <br>\n",
    "    3. ____________________________________________________________________ <br> <br>"
   ]
  },
  {
   "cell_type": "markdown",
   "metadata": {},
   "source": [
    "### **Milestone 3: Data Interpretation**"
   ]
  },
  {
   "cell_type": "markdown",
   "metadata": {},
   "source": [
    "##### <u>**Task 1:**</u> Given a graph, find cereals that are rich in fiber and protein but low in sugar and fat."
   ]
  },
  {
   "cell_type": "markdown",
   "metadata": {},
   "source": [
    "1. Run the code below to generate the graph."
   ]
  },
  {
   "cell_type": "code",
   "execution_count": null,
   "metadata": {},
   "outputs": [],
   "source": [
    "# Run this code to generate graph\n",
    "\n",
    "# Set-up Code\n",
    "import plotly.express as px\n",
    "import pandas as pd\n",
    "\n",
    "# Load data\n",
    "cereal_df = pd.read_csv(\"csv_files/cereal.csv\")\n",
    "\n",
    "# Create graph\n",
    "graph = px.scatter(\n",
    "    cereal_df,\n",
    "    x=\"fiber\",  # Fiber on the x-axis\n",
    "    y=\"protein\",  # Protein on the y-axis\n",
    "    size=\"fat\",  # Represent fat content with the size of the marker\n",
    "    color=\"sugars\",  # Represent sugar level with color\n",
    "    hover_name=\"name\",  # Show cereal name when you hover over a point\n",
    "    title=\"Cereals: Fiber & Protein vs. Sugar & Fat\",\n",
    "    labels={\n",
    "        \"fiber\": \"Fiber (g)\",\n",
    "        \"protein\": \"Protein (g)\",\n",
    "        \"sugars\": \"Sugar (g)\",\n",
    "        \"fat\": \"Fat (g)\",\n",
    "    },\n",
    ")\n",
    "\n",
    "# Show graph\n",
    "graph.show()"
   ]
  },
  {
   "cell_type": "markdown",
   "metadata": {},
   "source": [
    "2. Analyze the graph. Use your mouse to hover over the points to see more information. Write down your observations <br> \n",
    "    a. What observations can you make about this graph? <br>\n",
    "    b. What do you notice about the placement of each circle along the the x and y axis? <br>\n",
    "    c. What do you notice about the size of each circle? <br>\n",
    "    d. What do you notice about the colour of each circle? <br>\n",
    "\n"
   ]
  },
  {
   "cell_type": "markdown",
   "metadata": {},
   "source": [
    "3. Determine which 3 cereals are high in fiber and protein but low in sugar and fat that you can recommend to local schools. <br>\n",
    "    1. _______________________________________________________ <br> <br>\n",
    "    2. _______________________________________________________ <br> <br>\n",
    "    3. _______________________________________________________ <br> <br>\n"
   ]
  }
 ],
 "metadata": {
  "kernelspec": {
   "display_name": "Python 3",
   "language": "python",
   "name": "python3"
  },
  "language_info": {
   "codemirror_mode": {
    "name": "ipython",
    "version": 3
   },
   "file_extension": ".py",
   "mimetype": "text/x-python",
   "name": "python",
   "nbconvert_exporter": "python",
   "pygments_lexer": "ipython3",
   "version": "3.10.2"
  }
 },
 "nbformat": 4,
 "nbformat_minor": 2
}
