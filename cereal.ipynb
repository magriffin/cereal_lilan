{
  "cells": [
    {
      "cell_type": "markdown",
      "source": [
        "Open this notebook in [Callysto](https://hub.callysto.ca/jupyter/hub/user-redirect/git-pull?repo=https%3A%2F%2Fgithub.com%2Fmagriffin%2Fcereal_lilan&branch=main&subPath=cereal.ipynb&depth=1).\n",
        "\n"
      ],
      "metadata": {
        "id": "q1de2IEFq_fh"
      }
    },
    {
      "cell_type": "markdown",
      "source": [
        "# **The Healthy Breakfast Challenge**\n",
        " As a nutritionist, you have been hired by local schools to improve the breakfast habits of students. Recent studies have shown that having a nutritious breakfast greatly improves students' energy levels, concentration, and overall performance in school. However, the market is flooded with a variety of cereal brands, each claiming to be the best choice. With the goal of maximizing nutritional value, you need to make informed decisions on which cereal brand to recommend to the local schools.\n",
        "\n",
        " **Overview of your Mission**\n",
        " - **Milestone 1: Data Cleaning** <br> First up, you will dive into the cereal dataset. Just like detectives, you'll need to understand and clean this data. This means identifying and fixing any mistakes. This ensures you will be working with reliable data. <br>\n",
        " - **Milestone 2: Data Visualization** <br> With our data cleaned, it's time to create graphs to show the relationship between different nutritional elements in cereals.\n",
        " - **Milestone 3:Data Interpretation** <br> Finally, you need to interpret your findings. This is where you will make sense of your graphs, and will have found the best three cereals to recommend to local schools.\n",
        "\n",
        "```\n",
        "# This is formatted as code\n",
        "```\n",
        "\n"
      ],
      "metadata": {
        "id": "x-NngtvypKWX"
      }
    },
    {
      "cell_type": "markdown",
      "metadata": {
        "id": "wia5RpSqeDi8"
      },
      "source": [
        "### **Milestone 1: Data Cleaning**\n",
        "\n",
        "As a nutritionist, your first task is crucial. Before you can make any recommendations, you need to make sure you have a solid foundation — that means starting with clean data. Looking at the cereal dataset below, follow the following instructions:\n",
        "\n",
        "1. **Spot the clues:** First, scan through the cereal dataset for any bizzare entries. Are there any cereals with missing information? Are there numbers that just don't make sense?\n",
        "2. **The Clean-up:** Once you identify the bizzare entries, you can start the clean-up process. This can include filling in missing data, correcting inaccuracies, or even removing entries that just don't fit. You may need to research the cereal brand to input the correct data.\n",
        "3. **Final Inspection:** Take one last look at the cereal dataset so you don't miss anything."
      ]
    },
    {
      "cell_type": "markdown",
      "metadata": {
        "id": "AzWIt8FjeDi9"
      },
      "source": [
        "![Data cleaning table should be displayed here](https://drive.google.com/file/d/1MNnXewJ8BKF1x_mzmOBHqcRKcLRttAkZ)\n"
      ]
    },
    {
      "cell_type": "markdown",
      "metadata": {
        "id": "7ERpQbVyeDi9"
      },
      "source": [
        "### **Milestone 2: Data Visualization**\n",
        "As you've seen, our dataset includes nutritional information for various cereals.\n",
        "\n",
        "##### <u>**Task 1:**</u> Given the data table below, choose a type of graph that you think will best represent the relationship between **sugars** and **ratings**.\n",
        "\n",
        "![Display cereal first 15 rows of cereal data](images/table_tograph.png) <br>\n",
        "\n",
        "##### What type of graph did you choose?  ____________________________________________________"
      ]
    },
    {
      "cell_type": "markdown",
      "metadata": {
        "id": "z2csXn5reDi9"
      },
      "source": [
        "##### <u>**Task 2:**</u> Examine the three graphs below. Choose the graph that you think best represents the relationship between the sugar content and vitamin content in cereals.\n",
        "\n",
        "A) Scatter Plot <br>\n",
        "![Graph 1: Scatter Plot Graph should be displayed here](images/scatter.png)<br>\n",
        "B) Bar Graph<br>\n",
        "![Graph 2: Bar Graph should be displayed here](images/bar.png)<br>\n",
        "C) Line Graph <br>\n",
        "![Graph 3: Line Graph should be displayed here](images/line.png)<br>\n",
        "\n",
        "\n",
        "##### Which graph best represented the relationship between sugar and vitamin? _________________\n",
        "\n"
      ]
    },
    {
      "cell_type": "markdown",
      "metadata": {
        "id": "zf6O5y35eDi-"
      },
      "source": [
        "##### <u>**Task 3:**</u> Now, it's time to learn how to code your own graph. Your task is to create a graph that best represents the relationship between **sugars** and **rating**. To code your own graph, follow the steps below\n",
        "\n",
        "1. Run the set-up code below."
      ]
    },
    {
      "cell_type": "code",
      "execution_count": 1,
      "metadata": {
        "colab": {
          "base_uri": "https://localhost:8080/",
          "height": 339
        },
        "id": "OI5nvtb8eDi-",
        "outputId": "4b77402b-6a09-4766-b4bf-ecb667fbdfb0"
      },
      "outputs": [
        {
          "output_type": "error",
          "ename": "FileNotFoundError",
          "evalue": "[Errno 2] No such file or directory: 'csv_files/cereal.csv'",
          "traceback": [
            "\u001b[0;31m---------------------------------------------------------------------------\u001b[0m",
            "\u001b[0;31mFileNotFoundError\u001b[0m                         Traceback (most recent call last)",
            "\u001b[0;32m<ipython-input-1-f797d3c6a83a>\u001b[0m in \u001b[0;36m<cell line: 6>\u001b[0;34m()\u001b[0m\n\u001b[1;32m      4\u001b[0m \u001b[0;34m\u001b[0m\u001b[0m\n\u001b[1;32m      5\u001b[0m \u001b[0;31m# Load data\u001b[0m\u001b[0;34m\u001b[0m\u001b[0;34m\u001b[0m\u001b[0m\n\u001b[0;32m----> 6\u001b[0;31m \u001b[0mcereal_df\u001b[0m \u001b[0;34m=\u001b[0m \u001b[0mpd\u001b[0m\u001b[0;34m.\u001b[0m\u001b[0mread_csv\u001b[0m\u001b[0;34m(\u001b[0m\u001b[0;34m\"csv_files/cereal.csv\"\u001b[0m\u001b[0;34m)\u001b[0m\u001b[0;34m\u001b[0m\u001b[0;34m\u001b[0m\u001b[0m\n\u001b[0m",
            "\u001b[0;32m/usr/local/lib/python3.10/dist-packages/pandas/util/_decorators.py\u001b[0m in \u001b[0;36mwrapper\u001b[0;34m(*args, **kwargs)\u001b[0m\n\u001b[1;32m    209\u001b[0m                 \u001b[0;32melse\u001b[0m\u001b[0;34m:\u001b[0m\u001b[0;34m\u001b[0m\u001b[0;34m\u001b[0m\u001b[0m\n\u001b[1;32m    210\u001b[0m                     \u001b[0mkwargs\u001b[0m\u001b[0;34m[\u001b[0m\u001b[0mnew_arg_name\u001b[0m\u001b[0;34m]\u001b[0m \u001b[0;34m=\u001b[0m \u001b[0mnew_arg_value\u001b[0m\u001b[0;34m\u001b[0m\u001b[0;34m\u001b[0m\u001b[0m\n\u001b[0;32m--> 211\u001b[0;31m             \u001b[0;32mreturn\u001b[0m \u001b[0mfunc\u001b[0m\u001b[0;34m(\u001b[0m\u001b[0;34m*\u001b[0m\u001b[0margs\u001b[0m\u001b[0;34m,\u001b[0m \u001b[0;34m**\u001b[0m\u001b[0mkwargs\u001b[0m\u001b[0;34m)\u001b[0m\u001b[0;34m\u001b[0m\u001b[0;34m\u001b[0m\u001b[0m\n\u001b[0m\u001b[1;32m    212\u001b[0m \u001b[0;34m\u001b[0m\u001b[0m\n\u001b[1;32m    213\u001b[0m         \u001b[0;32mreturn\u001b[0m \u001b[0mcast\u001b[0m\u001b[0;34m(\u001b[0m\u001b[0mF\u001b[0m\u001b[0;34m,\u001b[0m \u001b[0mwrapper\u001b[0m\u001b[0;34m)\u001b[0m\u001b[0;34m\u001b[0m\u001b[0;34m\u001b[0m\u001b[0m\n",
            "\u001b[0;32m/usr/local/lib/python3.10/dist-packages/pandas/util/_decorators.py\u001b[0m in \u001b[0;36mwrapper\u001b[0;34m(*args, **kwargs)\u001b[0m\n\u001b[1;32m    329\u001b[0m                     \u001b[0mstacklevel\u001b[0m\u001b[0;34m=\u001b[0m\u001b[0mfind_stack_level\u001b[0m\u001b[0;34m(\u001b[0m\u001b[0;34m)\u001b[0m\u001b[0;34m,\u001b[0m\u001b[0;34m\u001b[0m\u001b[0;34m\u001b[0m\u001b[0m\n\u001b[1;32m    330\u001b[0m                 )\n\u001b[0;32m--> 331\u001b[0;31m             \u001b[0;32mreturn\u001b[0m \u001b[0mfunc\u001b[0m\u001b[0;34m(\u001b[0m\u001b[0;34m*\u001b[0m\u001b[0margs\u001b[0m\u001b[0;34m,\u001b[0m \u001b[0;34m**\u001b[0m\u001b[0mkwargs\u001b[0m\u001b[0;34m)\u001b[0m\u001b[0;34m\u001b[0m\u001b[0;34m\u001b[0m\u001b[0m\n\u001b[0m\u001b[1;32m    332\u001b[0m \u001b[0;34m\u001b[0m\u001b[0m\n\u001b[1;32m    333\u001b[0m         \u001b[0;31m# error: \"Callable[[VarArg(Any), KwArg(Any)], Any]\" has no\u001b[0m\u001b[0;34m\u001b[0m\u001b[0;34m\u001b[0m\u001b[0m\n",
            "\u001b[0;32m/usr/local/lib/python3.10/dist-packages/pandas/io/parsers/readers.py\u001b[0m in \u001b[0;36mread_csv\u001b[0;34m(filepath_or_buffer, sep, delimiter, header, names, index_col, usecols, squeeze, prefix, mangle_dupe_cols, dtype, engine, converters, true_values, false_values, skipinitialspace, skiprows, skipfooter, nrows, na_values, keep_default_na, na_filter, verbose, skip_blank_lines, parse_dates, infer_datetime_format, keep_date_col, date_parser, dayfirst, cache_dates, iterator, chunksize, compression, thousands, decimal, lineterminator, quotechar, quoting, doublequote, escapechar, comment, encoding, encoding_errors, dialect, error_bad_lines, warn_bad_lines, on_bad_lines, delim_whitespace, low_memory, memory_map, float_precision, storage_options)\u001b[0m\n\u001b[1;32m    948\u001b[0m     \u001b[0mkwds\u001b[0m\u001b[0;34m.\u001b[0m\u001b[0mupdate\u001b[0m\u001b[0;34m(\u001b[0m\u001b[0mkwds_defaults\u001b[0m\u001b[0;34m)\u001b[0m\u001b[0;34m\u001b[0m\u001b[0;34m\u001b[0m\u001b[0m\n\u001b[1;32m    949\u001b[0m \u001b[0;34m\u001b[0m\u001b[0m\n\u001b[0;32m--> 950\u001b[0;31m     \u001b[0;32mreturn\u001b[0m \u001b[0m_read\u001b[0m\u001b[0;34m(\u001b[0m\u001b[0mfilepath_or_buffer\u001b[0m\u001b[0;34m,\u001b[0m \u001b[0mkwds\u001b[0m\u001b[0;34m)\u001b[0m\u001b[0;34m\u001b[0m\u001b[0;34m\u001b[0m\u001b[0m\n\u001b[0m\u001b[1;32m    951\u001b[0m \u001b[0;34m\u001b[0m\u001b[0m\n\u001b[1;32m    952\u001b[0m \u001b[0;34m\u001b[0m\u001b[0m\n",
            "\u001b[0;32m/usr/local/lib/python3.10/dist-packages/pandas/io/parsers/readers.py\u001b[0m in \u001b[0;36m_read\u001b[0;34m(filepath_or_buffer, kwds)\u001b[0m\n\u001b[1;32m    603\u001b[0m \u001b[0;34m\u001b[0m\u001b[0m\n\u001b[1;32m    604\u001b[0m     \u001b[0;31m# Create the parser.\u001b[0m\u001b[0;34m\u001b[0m\u001b[0;34m\u001b[0m\u001b[0m\n\u001b[0;32m--> 605\u001b[0;31m     \u001b[0mparser\u001b[0m \u001b[0;34m=\u001b[0m \u001b[0mTextFileReader\u001b[0m\u001b[0;34m(\u001b[0m\u001b[0mfilepath_or_buffer\u001b[0m\u001b[0;34m,\u001b[0m \u001b[0;34m**\u001b[0m\u001b[0mkwds\u001b[0m\u001b[0;34m)\u001b[0m\u001b[0;34m\u001b[0m\u001b[0;34m\u001b[0m\u001b[0m\n\u001b[0m\u001b[1;32m    606\u001b[0m \u001b[0;34m\u001b[0m\u001b[0m\n\u001b[1;32m    607\u001b[0m     \u001b[0;32mif\u001b[0m \u001b[0mchunksize\u001b[0m \u001b[0;32mor\u001b[0m \u001b[0miterator\u001b[0m\u001b[0;34m:\u001b[0m\u001b[0;34m\u001b[0m\u001b[0;34m\u001b[0m\u001b[0m\n",
            "\u001b[0;32m/usr/local/lib/python3.10/dist-packages/pandas/io/parsers/readers.py\u001b[0m in \u001b[0;36m__init__\u001b[0;34m(self, f, engine, **kwds)\u001b[0m\n\u001b[1;32m   1440\u001b[0m \u001b[0;34m\u001b[0m\u001b[0m\n\u001b[1;32m   1441\u001b[0m         \u001b[0mself\u001b[0m\u001b[0;34m.\u001b[0m\u001b[0mhandles\u001b[0m\u001b[0;34m:\u001b[0m \u001b[0mIOHandles\u001b[0m \u001b[0;34m|\u001b[0m \u001b[0;32mNone\u001b[0m \u001b[0;34m=\u001b[0m \u001b[0;32mNone\u001b[0m\u001b[0;34m\u001b[0m\u001b[0;34m\u001b[0m\u001b[0m\n\u001b[0;32m-> 1442\u001b[0;31m         \u001b[0mself\u001b[0m\u001b[0;34m.\u001b[0m\u001b[0m_engine\u001b[0m \u001b[0;34m=\u001b[0m \u001b[0mself\u001b[0m\u001b[0;34m.\u001b[0m\u001b[0m_make_engine\u001b[0m\u001b[0;34m(\u001b[0m\u001b[0mf\u001b[0m\u001b[0;34m,\u001b[0m \u001b[0mself\u001b[0m\u001b[0;34m.\u001b[0m\u001b[0mengine\u001b[0m\u001b[0;34m)\u001b[0m\u001b[0;34m\u001b[0m\u001b[0;34m\u001b[0m\u001b[0m\n\u001b[0m\u001b[1;32m   1443\u001b[0m \u001b[0;34m\u001b[0m\u001b[0m\n\u001b[1;32m   1444\u001b[0m     \u001b[0;32mdef\u001b[0m \u001b[0mclose\u001b[0m\u001b[0;34m(\u001b[0m\u001b[0mself\u001b[0m\u001b[0;34m)\u001b[0m \u001b[0;34m->\u001b[0m \u001b[0;32mNone\u001b[0m\u001b[0;34m:\u001b[0m\u001b[0;34m\u001b[0m\u001b[0;34m\u001b[0m\u001b[0m\n",
            "\u001b[0;32m/usr/local/lib/python3.10/dist-packages/pandas/io/parsers/readers.py\u001b[0m in \u001b[0;36m_make_engine\u001b[0;34m(self, f, engine)\u001b[0m\n\u001b[1;32m   1733\u001b[0m                 \u001b[0;32mif\u001b[0m \u001b[0;34m\"b\"\u001b[0m \u001b[0;32mnot\u001b[0m \u001b[0;32min\u001b[0m \u001b[0mmode\u001b[0m\u001b[0;34m:\u001b[0m\u001b[0;34m\u001b[0m\u001b[0;34m\u001b[0m\u001b[0m\n\u001b[1;32m   1734\u001b[0m                     \u001b[0mmode\u001b[0m \u001b[0;34m+=\u001b[0m \u001b[0;34m\"b\"\u001b[0m\u001b[0;34m\u001b[0m\u001b[0;34m\u001b[0m\u001b[0m\n\u001b[0;32m-> 1735\u001b[0;31m             self.handles = get_handle(\n\u001b[0m\u001b[1;32m   1736\u001b[0m                 \u001b[0mf\u001b[0m\u001b[0;34m,\u001b[0m\u001b[0;34m\u001b[0m\u001b[0;34m\u001b[0m\u001b[0m\n\u001b[1;32m   1737\u001b[0m                 \u001b[0mmode\u001b[0m\u001b[0;34m,\u001b[0m\u001b[0;34m\u001b[0m\u001b[0;34m\u001b[0m\u001b[0m\n",
            "\u001b[0;32m/usr/local/lib/python3.10/dist-packages/pandas/io/common.py\u001b[0m in \u001b[0;36mget_handle\u001b[0;34m(path_or_buf, mode, encoding, compression, memory_map, is_text, errors, storage_options)\u001b[0m\n\u001b[1;32m    854\u001b[0m         \u001b[0;32mif\u001b[0m \u001b[0mioargs\u001b[0m\u001b[0;34m.\u001b[0m\u001b[0mencoding\u001b[0m \u001b[0;32mand\u001b[0m \u001b[0;34m\"b\"\u001b[0m \u001b[0;32mnot\u001b[0m \u001b[0;32min\u001b[0m \u001b[0mioargs\u001b[0m\u001b[0;34m.\u001b[0m\u001b[0mmode\u001b[0m\u001b[0;34m:\u001b[0m\u001b[0;34m\u001b[0m\u001b[0;34m\u001b[0m\u001b[0m\n\u001b[1;32m    855\u001b[0m             \u001b[0;31m# Encoding\u001b[0m\u001b[0;34m\u001b[0m\u001b[0;34m\u001b[0m\u001b[0m\n\u001b[0;32m--> 856\u001b[0;31m             handle = open(\n\u001b[0m\u001b[1;32m    857\u001b[0m                 \u001b[0mhandle\u001b[0m\u001b[0;34m,\u001b[0m\u001b[0;34m\u001b[0m\u001b[0;34m\u001b[0m\u001b[0m\n\u001b[1;32m    858\u001b[0m                 \u001b[0mioargs\u001b[0m\u001b[0;34m.\u001b[0m\u001b[0mmode\u001b[0m\u001b[0;34m,\u001b[0m\u001b[0;34m\u001b[0m\u001b[0;34m\u001b[0m\u001b[0m\n",
            "\u001b[0;31mFileNotFoundError\u001b[0m: [Errno 2] No such file or directory: 'csv_files/cereal.csv'"
          ]
        }
      ],
      "source": [
        "# Set-up Code\n",
        "import plotly.express as px\n",
        "import pandas as pd\n",
        "\n",
        "# Load data\n",
        "cereal_df = pd.read_csv(\"csv_files/cereal.csv\")"
      ]
    },
    {
      "cell_type": "markdown",
      "metadata": {
        "id": "rJlH6Q_neDi_"
      },
      "source": [
        "2. Choose the the type of graph you want to visualize. Here are your options:\n",
        "    - For a <u>bar graph</u>: Write `px.bar`\n",
        "    - For a <u>line graph</u>: Write `px.line`\n",
        "    - For a <u>scatter plot</u>: Write `px.scatter`\n",
        "\n",
        "Example of code:`chosen_graph1 = px.line`"
      ]
    },
    {
      "cell_type": "code",
      "execution_count": null,
      "metadata": {
        "id": "TlQEa9-yeDi_"
      },
      "outputs": [],
      "source": [
        "# ** STUDENT SECTION BEGINS **\n",
        "\n",
        "chosen_graph1 = px.line   # Change as needed.\n",
        "\n",
        "# ** STUDENT SECTION ENDS **"
      ]
    },
    {
      "cell_type": "markdown",
      "metadata": {
        "id": "EkUeOE5beDi_"
      },
      "source": [
        "3. Run the code below to see your graph."
      ]
    },
    {
      "cell_type": "code",
      "execution_count": null,
      "metadata": {
        "id": "SP7MlvIHeDi_"
      },
      "outputs": [],
      "source": [
        "# Run this code to see you graph\n",
        "fig = chosen_graph1(\n",
        "    cereal_df,\n",
        "    x=\"sugars\",\n",
        "    y=\"rating\",\n",
        "    hover_name=\"name\",\n",
        "    title=\"Relationship between Sugars and Rating\",\n",
        ")\n",
        "\n",
        "# Show the plot\n",
        "fig.show()\n",
        "\n",
        "# If figure does not show: uncomment the next line.\n",
        "# fig.write_html(\"graph1.html\") # downloads graph as an html file"
      ]
    },
    {
      "cell_type": "markdown",
      "metadata": {
        "id": "54eNJldCeDjA"
      },
      "source": [
        "4. Hover over the graph, and note your observations.\n",
        "\n",
        "<br>\n",
        "\n",
        "5. Go back to step 2 and try a different graph. Keep repeating step 4 until you code the three types of graphs.\n",
        "\n",
        "<br>\n",
        "\n",
        "\n",
        "6. Using the graph you created, answer the following questions: <br> <br>\n",
        "    A.  Which graph best represents the relationship between **sugars** and **rating**? ______________________________________ <br> <br>\n",
        "    B. Which cereal had the highest **rating**? _______________________________________________ <br> <br>\n",
        "    C. Which cereal had the least amount of **sugar** _________________________________________<br> <br>\n"
      ]
    },
    {
      "cell_type": "markdown",
      "metadata": {
        "id": "QGUjQOLPeDjA"
      },
      "source": [
        "##### <u>**Task 4:**</u> Now that you know how to create different types of graph, it's time to expand our knowledge. We are now going to learn how to graph relationships between different attributes. Examples of attributes are protein, fat, sugars, etc. Look at the cereal dataset, to determine which attributes to use. This section will help you determine which cereals to recommend to the school board. To code your graph follow the steps below.\n",
        "\n",
        "1. Run the set-up code below.\n"
      ]
    },
    {
      "cell_type": "code",
      "execution_count": null,
      "metadata": {
        "id": "QKqROjGEeDjA"
      },
      "outputs": [],
      "source": [
        "# Set-up Code\n",
        "import plotly.express as px\n",
        "import pandas as pd\n",
        "\n",
        "# Load data\n",
        "cereal_df = pd.read_csv(\"csv_files/cereal.csv\")"
      ]
    },
    {
      "cell_type": "markdown",
      "metadata": {
        "id": "NjAc9LMieDjA"
      },
      "source": [
        "2. Choose the the type of graph you want to visualize. Here are your options:\n",
        "    - For a <u>bar graph</u>: Write `px.bar`\n",
        "    - For a <u>line graph</u>: Write `px.line`\n",
        "    - For a <u>scatter plot</u>: Write `px.scatter`\n",
        "\n",
        "Example of code: `chosen_graph2 = px.line`"
      ]
    },
    {
      "cell_type": "code",
      "execution_count": null,
      "metadata": {
        "id": "lvlK2oLUeDjA"
      },
      "outputs": [],
      "source": [
        "# ** STUDENT SECTION BEGINS **\n",
        "\n",
        "chosen_graph2 = px.scatter  # Change as needed.\n",
        "\n",
        "# ** STUDENT SECTION ENDS **"
      ]
    },
    {
      "cell_type": "markdown",
      "metadata": {
        "id": "gQfj9XJLeDjA"
      },
      "source": [
        "3. Choose two attributes to use in your graph. Remember to look at the cereal dataset to choose your attributes!\n",
        "    - Which attribute is on the x-axis?\n",
        "    - Which attribute is on the y-axis?\n",
        "\n",
        "Example of code: The following will create a graph that shows the relationship between **sugars** and **vitamins** <br>\n",
        " `x_attribute = \"sugars\"` <br>\n",
        "`y_attribute = \"vitamins\"`\n",
        "\n",
        "**<span style=\"color: red\">Note: Be careful of spelling!</span>**"
      ]
    },
    {
      "cell_type": "code",
      "execution_count": null,
      "metadata": {
        "id": "LUXM-PPheDjA"
      },
      "outputs": [],
      "source": [
        "# ** STUDENT SECTION BEGINS **\n",
        "\n",
        "x_attribute = \"sugars\"      # Change as needed\n",
        "y_attribute = \"vitamins\"    # Change as needed\n",
        "\n",
        "# ** STUDENT SECTION ENDS **"
      ]
    },
    {
      "cell_type": "markdown",
      "metadata": {
        "id": "qgbcyNFFeDjA"
      },
      "source": [
        "4. Run the code below to see your graph."
      ]
    },
    {
      "cell_type": "code",
      "execution_count": null,
      "metadata": {
        "id": "iq9KDCWmeDjA"
      },
      "outputs": [],
      "source": [
        "# Run this code to see your graph\n",
        "fig = chosen_graph2(\n",
        "    cereal_df,\n",
        "    x=x_attribute.lower(),\n",
        "    y=y_attribute.lower(),\n",
        "    hover_name=\"name\",  # Show cereal name on hover\n",
        "    title=f\"Relationship between {x_attribute.capitalize()} and {y_attribute.capitalize()}\",\n",
        ")\n",
        "\n",
        "# Show the plot\n",
        "fig.show()\n",
        "\n",
        "# If figure does not show: uncomment the next line.\n",
        "# fig.write_html(\"graph1.html\") # downloads graph as an html file"
      ]
    },
    {
      "cell_type": "markdown",
      "metadata": {
        "id": "4_g1237weDjB"
      },
      "source": [
        "4. Use your mouse to hover over the graph. Using this feature, answer the questions in the next section."
      ]
    },
    {
      "cell_type": "markdown",
      "metadata": {
        "id": "A8I3c5QBeDjB"
      },
      "source": [
        "5. Based off of your graph, which three cereals should you recommend to local schools?\n",
        "<br><br>\n",
        "    1. ____________________________________________________________________ <br> <br>\n",
        "    2. ____________________________________________________________________ <br> <br>\n",
        "    3. ____________________________________________________________________ <br> <br>"
      ]
    },
    {
      "cell_type": "markdown",
      "metadata": {
        "id": "n2NfuNfTeDjB"
      },
      "source": [
        "### **Milestone 3: Data Interpretation**"
      ]
    },
    {
      "cell_type": "markdown",
      "metadata": {
        "id": "4UxoR-lEeDjB"
      },
      "source": [
        "##### <u>**Task 1:**</u> Given a graph, find cereals that are rich in fiber and protein but low in sugar and fat."
      ]
    },
    {
      "cell_type": "markdown",
      "metadata": {
        "id": "ncKcDka5eDjB"
      },
      "source": [
        "1. Run the code below to generate the graph."
      ]
    },
    {
      "cell_type": "code",
      "execution_count": null,
      "metadata": {
        "id": "HCetRYJueDjB"
      },
      "outputs": [],
      "source": [
        "# Run this code to generate graph\n",
        "\n",
        "# Set-up Code\n",
        "import plotly.express as px\n",
        "import pandas as pd\n",
        "\n",
        "# Load data\n",
        "cereal_df = pd.read_csv(\"csv_files/cereal.csv\")\n",
        "\n",
        "# Create graph\n",
        "graph = px.scatter(\n",
        "    cereal_df,\n",
        "    x=\"fiber\",  # Fiber on the x-axis\n",
        "    y=\"protein\",  # Protein on the y-axis\n",
        "    size=\"fat\",  # Represent fat content with the size of the marker\n",
        "    color=\"sugars\",  # Represent sugar level with color\n",
        "    hover_name=\"name\",  # Show cereal name when you hover over a point\n",
        "    title=\"Cereals: Fiber & Protein vs. Sugar & Fat\",\n",
        "    labels={\n",
        "        \"fiber\": \"Fiber (g)\",\n",
        "        \"protein\": \"Protein (g)\",\n",
        "        \"sugars\": \"Sugar (g)\",\n",
        "        \"fat\": \"Fat (g)\",\n",
        "    },\n",
        ")\n",
        "\n",
        "# Show graph\n",
        "graph.show()"
      ]
    },
    {
      "cell_type": "markdown",
      "metadata": {
        "id": "9Yin749-eDjB"
      },
      "source": [
        "2. Analyze the graph. Use your mouse to hover over the points to see more information. Write down your observations <br>\n",
        "    a. What observations can you make about this graph? <br>\n",
        "    b. What do you notice about the placement of each circle along the the x and y axis? <br>\n",
        "    c. What do you notice about the size of each circle? <br>\n",
        "    d. What do you notice about the colour of each circle? <br>\n",
        "\n"
      ]
    },
    {
      "cell_type": "markdown",
      "metadata": {
        "id": "uevlRMtleDjB"
      },
      "source": [
        "3. Determine which 3 cereals are high in fiber and protein but low in sugar and fat that you can recommend to local schools. <br>\n",
        "    1. _______________________________________________________ <br> <br>\n",
        "    2. _______________________________________________________ <br> <br>\n",
        "    3. _______________________________________________________ <br> <br>\n"
      ]
    }
  ],
  "metadata": {
    "kernelspec": {
      "display_name": "Python 3",
      "language": "python",
      "name": "python3"
    },
    "language_info": {
      "codemirror_mode": {
        "name": "ipython",
        "version": 3
      },
      "file_extension": ".py",
      "mimetype": "text/x-python",
      "name": "python",
      "nbconvert_exporter": "python",
      "pygments_lexer": "ipython3",
      "version": "3.10.2"
    },
    "colab": {
      "provenance": []
    }
  },
  "nbformat": 4,
  "nbformat_minor": 0
}